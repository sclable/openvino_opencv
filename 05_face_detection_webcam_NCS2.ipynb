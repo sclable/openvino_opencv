{
 "cells": [
  {
   "cell_type": "markdown",
   "metadata": {},
   "source": [
    "### Face detection using webcam with NCS2 \n",
    "\n",
    "Steps are following:\n",
    "1. We need Intel Movidius NCS2 Accelerator and its correct installation.\n",
    "2. Then, download model using \"01_model_downloader.ipynb\" named \"face-detection-retail-0004\" in FP16 Precision.\n",
    "3. Note that here model comes from Intel Pre-trained models repo where models are already converted into IR formats with various quantization. \n",
    "4. FP16 Precision is a requirement for NCS2 to work on and check a list of supported layers.\n",
    "\n",
    "-> Requirements of the face detection model:\n",
    "* Originally, trained on Caffe but converted into IR format.\n",
    "* Input size - (300, 300)\n",
    "* Channel order - BGR \n",
    "* Output - [1, 1, N, 7] where N are the numbers of objects detected"
   ]
  },
  {
   "cell_type": "code",
   "execution_count": 1,
   "metadata": {},
   "outputs": [],
   "source": [
    "%load_ext autoreload\n",
    "%autoreload 2"
   ]
  },
  {
   "cell_type": "code",
   "execution_count": 2,
   "metadata": {},
   "outputs": [],
   "source": [
    "import cv2"
   ]
  },
  {
   "cell_type": "markdown",
   "metadata": {},
   "source": [
    "#### Define parameters"
   ]
  },
  {
   "cell_type": "code",
   "execution_count": 3,
   "metadata": {},
   "outputs": [],
   "source": [
    "# Parameters\n",
    "MODEL_FPATH = \"./models/intel/face-detection-retail-0004/FP16/face-detection-retail-0004.bin\"\n",
    "ARCH_FPATH = \"./models/intel/face-detection-retail-0004/FP16/face-detection-retail-0004.xml\"\n",
    "CONF_THRESH = 0.5 # confidence of each object detected"
   ]
  },
  {
   "cell_type": "markdown",
   "metadata": {},
   "source": [
    "#### Load model"
   ]
  },
  {
   "cell_type": "code",
   "execution_count": 4,
   "metadata": {},
   "outputs": [],
   "source": [
    "# Load the model.\n",
    "net = cv2.dnn.readNet(ARCH_FPATH, MODEL_FPATH)\n",
    "\n",
    "# Specify NCS2 Myriad as a target device.\n",
    "net.setPreferableBackend(cv2.dnn.DNN_BACKEND_INFERENCE_ENGINE)\n",
    "net.setPreferableTarget(cv2.dnn.DNN_TARGET_MYRIAD) # DNN_TARGET_CPU (only if you don't have NCS2) or DNN_TARGET_MYRIAD"
   ]
  },
  {
   "cell_type": "markdown",
   "metadata": {},
   "source": [
    "#### Initialize webcam video capture object"
   ]
  },
  {
   "cell_type": "code",
   "execution_count": 5,
   "metadata": {},
   "outputs": [],
   "source": [
    "vid_cap = cv2.VideoCapture(0)\n",
    "if not vid_cap.isOpened():\n",
    "    raise IOError(\"Webcam cannot be opened!\")"
   ]
  },
  {
   "cell_type": "markdown",
   "metadata": {},
   "source": [
    "#### Read frame and inference on them (Press 'ESC' key to stop)"
   ]
  },
  {
   "cell_type": "code",
   "execution_count": 6,
   "metadata": {},
   "outputs": [
    {
     "data": {
      "text/plain": [
       "-1"
      ]
     },
     "execution_count": 6,
     "metadata": {},
     "output_type": "execute_result"
    }
   ],
   "source": [
    "while True:\n",
    "    # Capture frames\n",
    "    ret, frame = vid_cap.read()\n",
    "    \n",
    "    # Prepare input blob and perform inference\n",
    "    blob = cv2.dnn.blobFromImage(frame, size=(300, 300), ddepth=cv2.CV_8U)\n",
    "    net.setInput(blob)\n",
    "    out = net.forward()\n",
    "    \n",
    "    # Draw detected faces\n",
    "    for detect in out.reshape(-1, 7):\n",
    "        conf = float(detect[2])\n",
    "        xmin = int(detect[3] * frame.shape[1])\n",
    "        ymin = int(detect[4] * frame.shape[0])\n",
    "        xmax = int(detect[5] * frame.shape[1])\n",
    "        ymax = int(detect[6] * frame.shape[0])\n",
    "\n",
    "        if conf > CONF_THRESH:\n",
    "            cv2.rectangle(frame, (xmin, ymin), (xmax, ymax), color=(0, 255, 0), thickness=2)\n",
    "    \n",
    "    cv2.imshow('Input', frame)\n",
    "    \n",
    "    # Press \"ESC\" key to stop webcam\n",
    "    if cv2.waitKey(1) == 27:\n",
    "        break\n",
    "\n",
    "# Release video capture object and close the window\n",
    "vid_cap.release()\n",
    "cv2.destroyAllWindows()\n",
    "cv2.waitKey(1)"
   ]
  }
 ],
 "metadata": {
  "kernelspec": {
   "display_name": "Python 3",
   "language": "python",
   "name": "python3"
  },
  "language_info": {
   "codemirror_mode": {
    "name": "ipython",
    "version": 3
   },
   "file_extension": ".py",
   "mimetype": "text/x-python",
   "name": "python",
   "nbconvert_exporter": "python",
   "pygments_lexer": "ipython3",
   "version": "3.6.12"
  }
 },
 "nbformat": 4,
 "nbformat_minor": 4
}
